{
 "cells": [
  {
   "cell_type": "code",
   "execution_count": 9,
   "id": "d3e39f4d",
   "metadata": {},
   "outputs": [],
   "source": [
    "import pandas as pd\n",
    "url = 'https://github.com/gelos21/datasets/raw/master/data/vehicles.csv.zip'\n",
    "df = pd.read_csv(url, low_memory=False)\n",
    "city_mpg = df.city08\n",
    "highhway_mpg = df.highway08"
   ]
  },
  {
   "cell_type": "code",
   "execution_count": 11,
   "id": "51956ad6",
   "metadata": {},
   "outputs": [
    {
     "data": {
      "text/plain": [
       "0        19\n",
       "1         9\n",
       "2        23\n",
       "3        10\n",
       "4        17\n",
       "         ..\n",
       "41139    19\n",
       "41140    20\n",
       "41141    18\n",
       "41142    18\n",
       "41143    16\n",
       "Name: city08, Length: 41144, dtype: int64"
      ]
     },
     "execution_count": 11,
     "metadata": {},
     "output_type": "execute_result"
    }
   ],
   "source": [
    "city_mpg"
   ]
  },
  {
   "cell_type": "code",
   "execution_count": 12,
   "id": "6f27b5d1",
   "metadata": {},
   "outputs": [
    {
     "data": {
      "text/plain": [
       "0        25\n",
       "1        14\n",
       "2        33\n",
       "3        12\n",
       "4        23\n",
       "         ..\n",
       "41139    26\n",
       "41140    28\n",
       "41141    24\n",
       "41142    24\n",
       "41143    21\n",
       "Name: highway08, Length: 41144, dtype: int64"
      ]
     },
     "execution_count": 12,
     "metadata": {},
     "output_type": "execute_result"
    }
   ],
   "source": [
    "highhway_mpg"
   ]
  },
  {
   "cell_type": "code",
   "execution_count": 14,
   "id": "6469facb",
   "metadata": {},
   "outputs": [
    {
     "data": {
      "text/plain": [
       "420"
      ]
     },
     "execution_count": 14,
     "metadata": {},
     "output_type": "execute_result"
    }
   ],
   "source": [
    "len(dir(city_mpg))"
   ]
  },
  {
   "cell_type": "code",
   "execution_count": null,
   "id": "5c20cf15",
   "metadata": {},
   "outputs": [],
   "source": []
  }
 ],
 "metadata": {
  "kernelspec": {
   "display_name": "Python 3 (ipykernel)",
   "language": "python",
   "name": "python3"
  },
  "language_info": {
   "codemirror_mode": {
    "name": "ipython",
    "version": 3
   },
   "file_extension": ".py",
   "mimetype": "text/x-python",
   "name": "python",
   "nbconvert_exporter": "python",
   "pygments_lexer": "ipython3",
   "version": "3.9.12"
  }
 },
 "nbformat": 4,
 "nbformat_minor": 5
}
